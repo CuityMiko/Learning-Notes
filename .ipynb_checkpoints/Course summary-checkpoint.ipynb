{
 "cells": [
  {
   "cell_type": "markdown",
   "metadata": {},
   "source": [
    "# Course Summary"
   ]
  },
  {
   "cell_type": "markdown",
   "metadata": {},
   "source": [
    "We will cover three fields:\n",
    "1. Summarize the previous lecture\n",
    "2. Deploy the models\n",
    "3. Suggestions about leanrning"
   ]
  },
  {
   "cell_type": "markdown",
   "metadata": {},
   "source": [
    "## 1. Summarize the previous lecture\n",
    "1. Preprocessing data\n",
    "\n",
    "    数据集的标准化，归一化，数据的选择和降维。比如说涉及到距离和梯度的模型，一定得对数据做处理。特征选择基于树的重要性，L1范数\n",
    "    \n",
    "2. Classification\n",
    "\n",
    "    1. 线性模型，lasso, ridge, logistic, linear SVM. \n",
    "    2. 如何避免过拟合。用正则化\n",
    "    3. 非线性。bagging, boosting\n",
    "    \n",
    "3. Regression\n",
    "\n",
    "    大部分模型都是既可作分类也可作回归。重点讲了评估指标。添加了pipline。\n",
    "4. Model Evaluation\n",
    "\n",
    "    CV。gridsearch。分类模型的评估指标，准确率不好用，于是用recall，precision，f1，roc来代替\n",
    "5. Clustering\n",
    "\n",
    "    k近邻，kmeans，Hierarchical clustering， DBSCAN。涉及到了距离，必须对数据做标准化\n",
    "    \n",
    "以上都是基于台大课程讲解的基础上。"
   ]
  },
  {
   "cell_type": "markdown",
   "metadata": {},
   "source": [
    "## 2. Deploy the models\n",
    "如何部署模型\n",
    "1. Linux command\n",
    "2. Java invoke\n",
    "3. PMML"
   ]
  },
  {
   "cell_type": "markdown",
   "metadata": {},
   "source": [
    "### 如何用linux来调度模型，自动跑\n",
    "\n",
    "假设我们已经有一组数据，我们想要训练好的数据来预测这个新的数据。首先我们需要把模型保存下来。"
   ]
  },
  {
   "cell_type": "code",
   "execution_count": 2,
   "metadata": {
    "collapsed": false
   },
   "outputs": [
    {
     "data": {
      "text/plain": [
       "RandomForestClassifier(bootstrap=True, class_weight=None, criterion='gini',\n",
       "            max_depth=None, max_features='auto', max_leaf_nodes=None,\n",
       "            min_impurity_split=1e-07, min_samples_leaf=1,\n",
       "            min_samples_split=2, min_weight_fraction_leaf=0.0,\n",
       "            n_estimators=10, n_jobs=1, oob_score=False, random_state=0,\n",
       "            verbose=0, warm_start=False)"
      ]
     },
     "execution_count": 2,
     "metadata": {},
     "output_type": "execute_result"
    }
   ],
   "source": [
    "# Save the trained model\n",
    "\n",
    "from sklearn.datasets import make_blobs\n",
    "from sklearn.ensemble import RandomForestClassifier\n",
    "\n",
    "X, y = make_blobs(n_samples=10000, n_features=10, centers=100, random_state=0)\n",
    "\n",
    "clf = RandomForestClassifier(n_estimators=10, max_depth=None, min_samples_split=2, random_state=0)\n",
    "clf.fit(X, y)"
   ]
  },
  {
   "cell_type": "code",
   "execution_count": 3,
   "metadata": {
    "collapsed": false
   },
   "outputs": [
    {
     "data": {
      "text/plain": [
       "['RandomForest.pkl']"
      ]
     },
     "execution_count": 3,
     "metadata": {},
     "output_type": "execute_result"
    }
   ],
   "source": [
    "from sklearn.externals import joblib\n",
    "joblib.dump(clf, \"RandomForest.pkl\")\n",
    "# 运行完之后发现当前的目录下多了一个RandomForest.pkl文件，这个就是我们训练好的RF模型\n",
    "# joblib是用来保存模型到本地的，变为一个二进制的文件"
   ]
  },
  {
   "cell_type": "code",
   "execution_count": null,
   "metadata": {
    "collapsed": true
   },
   "outputs": [],
   "source": []
  },
  {
   "cell_type": "code",
   "execution_count": null,
   "metadata": {
    "collapsed": true
   },
   "outputs": [],
   "source": []
  }
 ],
 "metadata": {
  "kernelspec": {
   "display_name": "Python [py35]",
   "language": "python",
   "name": "Python [py35]"
  },
  "language_info": {
   "codemirror_mode": {
    "name": "ipython",
    "version": 3
   },
   "file_extension": ".py",
   "mimetype": "text/x-python",
   "name": "python",
   "nbconvert_exporter": "python",
   "pygments_lexer": "ipython3",
   "version": "3.5.2"
  }
 },
 "nbformat": 4,
 "nbformat_minor": 0
}
