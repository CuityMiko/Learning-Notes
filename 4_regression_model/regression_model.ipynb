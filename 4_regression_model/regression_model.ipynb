{
 "cells": [
  {
   "cell_type": "markdown",
   "metadata": {},
   "source": [
    "# 回归模型\n",
    "Predicting a continuous-valued attribute associated with an object.\n",
    "\n",
    "Regression VS Classification\n",
    "1. target variable is continuous or discrete\n",
    "2. evaluation metrics diff"
   ]
  },
  {
   "cell_type": "markdown",
   "metadata": {},
   "source": [
    "1. [SVR](http://www.svms.org/regression/SmSc98.pdf)\n",
    "2. [Boosting Regression](http://citeseerx.ist.psu.edu/viewdoc/download?doi=10.1.1.31.314&rep=rep1&type=pdf)\n",
    "3. [Random Forest](https://www.stat.berkeley.edu/~breiman/randomforest2001.pdf)"
   ]
  },
  {
   "cell_type": "code",
   "execution_count": null,
   "metadata": {
    "collapsed": true
   },
   "outputs": [],
   "source": [
    "class sklearn.svm.SVR(kernel='rbf', degree=3, gamma='auto', coef0=0.0, tol=0.001, C=1.0, \n",
    "                      epsilon=0.1, shrinking=True, cache_size=200, verbose=False, max_iter=-1"
   ]
  },
  {
   "cell_type": "code",
   "execution_count": 1,
   "metadata": {
    "collapsed": true
   },
   "outputs": [],
   "source": [
    "import pandas as pd \n",
    "import numpy as np \n",
    "df = pd.read_csv(\"forestfires.csv\")"
   ]
  },
  {
   "cell_type": "code",
   "execution_count": 4,
   "metadata": {
    "collapsed": false
   },
   "outputs": [],
   "source": [
    "newDf = pd.get_dummies(data = df,columns=['month','day'])"
   ]
  },
  {
   "cell_type": "code",
   "execution_count": 6,
   "metadata": {
    "collapsed": false
   },
   "outputs": [],
   "source": [
    "xdata = newDf.drop('area',axis = 1)\n",
    "ydata = newDf['area']"
   ]
  },
  {
   "cell_type": "code",
   "execution_count": 14,
   "metadata": {
    "collapsed": true
   },
   "outputs": [],
   "source": [
    "from sklearn.svm import SVR\n",
    "svr = SVR(kernel =\"linear\")"
   ]
  },
  {
   "cell_type": "code",
   "execution_count": 8,
   "metadata": {
    "collapsed": false
   },
   "outputs": [
    {
     "data": {
      "text/plain": [
       "SVR(C=1.0, cache_size=200, coef0=0.0, degree=3, epsilon=0.1, gamma='auto',\n",
       "  kernel='linear', max_iter=-1, shrinking=True, tol=0.001, verbose=False)"
      ]
     },
     "execution_count": 8,
     "metadata": {},
     "output_type": "execute_result"
    }
   ],
   "source": [
    "svr.fit(xdata,ydata)"
   ]
  },
  {
   "cell_type": "code",
   "execution_count": 10,
   "metadata": {
    "collapsed": false
   },
   "outputs": [
    {
     "data": {
      "text/plain": [
       "-0.032413254922760926"
      ]
     },
     "execution_count": 10,
     "metadata": {},
     "output_type": "execute_result"
    }
   ],
   "source": [
    "svr.score(xdata,ydata)"
   ]
  },
  {
   "cell_type": "code",
   "execution_count": 12,
   "metadata": {
    "collapsed": true
   },
   "outputs": [],
   "source": [
    "from sklearn.preprocessing import StandardScaler\n",
    "ss = StandardScaler()"
   ]
  },
  {
   "cell_type": "code",
   "execution_count": 13,
   "metadata": {
    "collapsed": false
   },
   "outputs": [],
   "source": [
    "xdata_ss = ss.fit_transform(xdata)"
   ]
  },
  {
   "cell_type": "code",
   "execution_count": 15,
   "metadata": {
    "collapsed": false
   },
   "outputs": [
    {
     "data": {
      "text/plain": [
       "SVR(C=1.0, cache_size=200, coef0=0.0, degree=3, epsilon=0.1, gamma='auto',\n",
       "  kernel='linear', max_iter=-1, shrinking=True, tol=0.001, verbose=False)"
      ]
     },
     "execution_count": 15,
     "metadata": {},
     "output_type": "execute_result"
    }
   ],
   "source": [
    "svr.fit(xdata_ss,ydata)"
   ]
  },
  {
   "cell_type": "code",
   "execution_count": 16,
   "metadata": {
    "collapsed": false
   },
   "outputs": [
    {
     "data": {
      "text/plain": [
       "-0.032109399537486372"
      ]
     },
     "execution_count": 16,
     "metadata": {},
     "output_type": "execute_result"
    }
   ],
   "source": [
    "svr.score(xdata_ss,ydata)"
   ]
  },
  {
   "cell_type": "code",
   "execution_count": 18,
   "metadata": {
    "collapsed": true
   },
   "outputs": [],
   "source": [
    "from sklearn.ensemble import GradientBoostingRegressor"
   ]
  },
  {
   "cell_type": "code",
   "execution_count": 20,
   "metadata": {
    "collapsed": false
   },
   "outputs": [],
   "source": [
    "gbr = GradientBoostingRegressor(learning_rate=0.01,n_estimators=200,subsample=0.7,max_depth=5)"
   ]
  },
  {
   "cell_type": "code",
   "execution_count": 21,
   "metadata": {
    "collapsed": false
   },
   "outputs": [
    {
     "data": {
      "text/plain": [
       "GradientBoostingRegressor(alpha=0.9, init=None, learning_rate=0.01, loss='ls',\n",
       "             max_depth=5, max_features=None, max_leaf_nodes=None,\n",
       "             min_samples_leaf=1, min_samples_split=2,\n",
       "             min_weight_fraction_leaf=0.0, n_estimators=200,\n",
       "             presort='auto', random_state=None, subsample=0.7, verbose=0,\n",
       "             warm_start=False)"
      ]
     },
     "execution_count": 21,
     "metadata": {},
     "output_type": "execute_result"
    }
   ],
   "source": [
    "gbr.fit(xdata,ydata)"
   ]
  },
  {
   "cell_type": "code",
   "execution_count": 22,
   "metadata": {
    "collapsed": false
   },
   "outputs": [
    {
     "data": {
      "text/plain": [
       "0.8866365842788213"
      ]
     },
     "execution_count": 22,
     "metadata": {},
     "output_type": "execute_result"
    }
   ],
   "source": [
    "gbr.score(xdata,ydata)"
   ]
  },
  {
   "cell_type": "code",
   "execution_count": 25,
   "metadata": {
    "collapsed": false
   },
   "outputs": [
    {
     "data": {
      "text/plain": [
       "Index(['X', 'Y', 'FFMC', 'DMC', 'DC', 'ISI', 'temp', 'RH', 'wind', 'rain',\n",
       "       'month_apr', 'month_aug', 'month_dec', 'month_feb', 'month_jan',\n",
       "       'month_jul', 'month_jun', 'month_mar', 'month_may', 'month_nov',\n",
       "       'month_oct', 'month_sep', 'day_fri', 'day_mon', 'day_sat', 'day_sun',\n",
       "       'day_thu', 'day_tue', 'day_wed'],\n",
       "      dtype='object')"
      ]
     },
     "execution_count": 25,
     "metadata": {},
     "output_type": "execute_result"
    }
   ],
   "source": [
    "xdata.columns"
   ]
  },
  {
   "cell_type": "code",
   "execution_count": 24,
   "metadata": {
    "collapsed": false
   },
   "outputs": [
    {
     "data": {
      "text/plain": [
       "array([  4.41360129e-02,   3.94356106e-02,   4.75935407e-02,\n",
       "         1.54505802e-01,   3.58018321e-02,   9.22938387e-02,\n",
       "         3.82758601e-01,   5.13449694e-02,   6.08557819e-02,\n",
       "         2.32186595e-05,   3.09211797e-04,   3.69627013e-03,\n",
       "         1.48685051e-04,   1.69273872e-04,   0.00000000e+00,\n",
       "         8.90379516e-03,   6.26749916e-04,   1.39397354e-03,\n",
       "         4.28218621e-04,   0.00000000e+00,   8.19459640e-05,\n",
       "         3.91820110e-03,   2.87109662e-04,   4.49093905e-03,\n",
       "         1.84765529e-02,   1.19510928e-02,   2.67285926e-02,\n",
       "         4.80272631e-03,   4.83745434e-03])"
      ]
     },
     "execution_count": 24,
     "metadata": {},
     "output_type": "execute_result"
    }
   ],
   "source": [
    "gbr.feature_importances_"
   ]
  },
  {
   "cell_type": "markdown",
   "metadata": {},
   "source": [
    "## Regression Metrics"
   ]
  },
  {
   "cell_type": "markdown",
   "metadata": {},
   "source": [
    "#### Explained variance score\n",
    "The explained_variance_score computes the explained variance regression score.\n",
    "\n",
    "If \\hat{y} is the estimated target output, y the corresponding (correct) target output, and Var is Variance, the square of the standard deviation, then the explained variance is estimated as follow:\n",
    "![image1](http://scikit-learn.org/stable/_images/math/494cda4d8d05a44aa9aa20de549468e4d121e04c.png)\n",
    "\n",
    "The best possible score is 1.0, lower values are worse."
   ]
  },
  {
   "cell_type": "markdown",
   "metadata": {},
   "source": [
    "#### Mean absolute error\n",
    "The mean_absolute_error function computes mean absolute error, a risk metric corresponding to the expected value of the absolute error loss or l1-norm loss.\n",
    "\n",
    "If \\hat{y}_i is the predicted value of the i-th sample, and y_i is the corresponding true value, then the mean absolute error (MAE) estimated over n_{\\text{samples}} is defined as\n",
    "![image2](http://scikit-learn.org/stable/_images/math/c38d771fb5eb121916c06cf8c651363583d17794.png)"
   ]
  },
  {
   "cell_type": "markdown",
   "metadata": {},
   "source": [
    "#### Mean squared error\n",
    "The mean_squared_error function computes mean square error, a risk metric corresponding to the expected value of the squared (quadratic) error loss or loss.\n",
    "\n",
    "If \\hat{y}_i is the predicted value of the i-th sample, and y_i is the corresponding true value, then the mean squared error (MSE) estimated over n_{\\text{samples}} is defined as\n",
    "![image](http://scikit-learn.org/stable/_images/math/44f36557fef9b30b077b21550490a1b9a0ade154.png)"
   ]
  },
  {
   "cell_type": "markdown",
   "metadata": {},
   "source": [
    "#### R² score, the coefficient of determination\n",
    "The r2_score function computes R², the coefficient of determination. It provides a measure of how well future samples are likely to be predicted by the model. Best possible score is 1.0 and it can be negative (because the model can be arbitrarily worse). A constant model that always predicts the expected value of y, disregarding the input features, would get a R^2 score of 0.0.\n",
    "\n",
    "If \\hat{y}_i is the predicted value of the i-th sample and y_i is the corresponding true value, then the score R² estimated over n_{\\text{samples}} is defined as\n",
    "![image3](http://scikit-learn.org/stable/_images/math/bdab7d608c772b3e382e2822a73ef557c80fbca2.png)\n",
    "\n",
    "where ![image](http://scikit-learn.org/stable/_images/math/4b4e8ee0c1363ed7f781ed3a12073cfd169e3f79.png)"
   ]
  },
  {
   "cell_type": "markdown",
   "metadata": {},
   "source": [
    "#### Practical Regression Metrics\n",
    "\n",
    "Use error metric used in classification to evaluate regression."
   ]
  },
  {
   "cell_type": "code",
   "execution_count": 30,
   "metadata": {
    "collapsed": false
   },
   "outputs": [],
   "source": [
    "# define the error you can bear\n",
    "def errorForRegression(prediction,target,errorList):\n",
    "    if not isinstance(errorList,list):\n",
    "        raise TypeError(\"the errorList shoule be List type\")\n",
    "    error = np.abs(prediction - target)\n",
    "    result = [np.sum(error <= x) / len(error) for x in errorList]\n",
    "    return result\n",
    "    "
   ]
  },
  {
   "cell_type": "code",
   "execution_count": 26,
   "metadata": {
    "collapsed": true
   },
   "outputs": [],
   "source": [
    "# Coding in here \n",
    "\n",
    "pred = gbr.predict(xdata)"
   ]
  },
  {
   "cell_type": "code",
   "execution_count": 31,
   "metadata": {
    "collapsed": false
   },
   "outputs": [],
   "source": [
    "result = (pred,ydata,[3,4,5])"
   ]
  },
  {
   "cell_type": "code",
   "execution_count": 32,
   "metadata": {
    "collapsed": false
   },
   "outputs": [
    {
     "data": {
      "text/plain": [
       "(array([   6.38676909,    4.92368899,    5.26187986,    5.92132006,\n",
       "           5.50687378,    6.69931598,    4.36506358,    6.40707721,\n",
       "           8.46444871,    6.71058966,    6.01355679,    7.36134445,\n",
       "           6.27976606,    7.68503337,   21.00755605,    7.40627021,\n",
       "           8.53488581,    7.73315978,    5.83177216,    6.33302782,\n",
       "          10.81628551,    4.48772356,    7.3769695 ,    8.36502792,\n",
       "           7.5727203 ,    7.58571083,    6.69373815,    9.11053803,\n",
       "          10.34651198,   10.65557705,    4.33434376,    7.32779789,\n",
       "          12.66021833,    5.41171334,    4.74501872,    6.92889897,\n",
       "           6.61105579,    6.90591805,    8.00771258,    5.44602386,\n",
       "          20.89522796,    5.29929333,    4.75328629,    6.82035778,\n",
       "           6.88705175,    4.14690172,    6.0527364 ,   13.90949246,\n",
       "           4.81307047,    6.9056774 ,   11.62674558,    5.97505957,\n",
       "           5.29705906,    5.29705906,    4.61634032,   13.59597274,\n",
       "           5.65600039,    4.8769743 ,    6.17981681,    4.17109799,\n",
       "           3.51653879,    4.19843536,    8.00536151,    3.84559753,\n",
       "           4.64863746,    4.18321826,    4.49237626,    5.97182077,\n",
       "           6.79243923,    3.36881026,    4.2030503 ,    4.43860162,\n",
       "           4.32201579,    5.39675002,    4.02036444,   10.74873723,\n",
       "           8.62478589,    6.43247106,    2.96892121,   14.84135176,\n",
       "           8.12431877,    8.84854777,    7.52336421,    8.47151437,\n",
       "           4.58376149,    9.78277573,    5.49450867,   13.64773987,\n",
       "          20.88404291,   10.52357341,    5.82905974,    4.92863984,\n",
       "          13.69532429,   20.76430694,    5.87655692,    5.15040029,\n",
       "           4.37162757,   10.55472494,    5.41120451,    7.60022405,\n",
       "           7.60022405,    4.73167452,    4.43423291,   31.95340097,\n",
       "           5.67452791,    5.80735112,    4.48497892,    5.23690495,\n",
       "           5.66379858,    5.398557  ,    6.19539555,    4.65745553,\n",
       "           6.51755367,    4.08249966,    4.92536958,    4.64442153,\n",
       "           5.16762232,    7.99219274,    4.85611224,    5.1404692 ,\n",
       "           5.00376741,    5.31218477,    8.16689758,    9.42719314,\n",
       "           5.23377177,    6.61846624,    4.58558517,    6.78777436,\n",
       "           5.09614201,    3.45368331,    6.05237626,    4.88197028,\n",
       "           5.25567095,    3.81830468,    3.93076319,    6.33920116,\n",
       "           5.41967058,    5.76854729,   12.68987287,   22.52181115,\n",
       "           7.74697183,    3.26551633,   14.37841156,   11.22717623,\n",
       "           3.04992113,    9.46298443,    5.82413736,   14.2059416 ,\n",
       "           3.06716921,    6.06567303,    7.70273321,   14.85471263,\n",
       "          10.48909221,    6.43111319,   13.74407227,    5.20527998,\n",
       "           9.90159706,    2.88673741,    4.01673244,    6.69373815,\n",
       "           6.24919874,    6.91774709,    8.66671818,   17.96837684,\n",
       "           6.1542478 ,    5.61415065,    3.95378504,    5.43912495,\n",
       "           9.42130351,    6.13484335,    6.71329796,    7.41442988,\n",
       "          10.70735841,    6.76295836,    4.11814668,    4.79115718,\n",
       "           6.27115997,    5.15638027,    4.99392519,    8.01202732,\n",
       "           8.17134692,    8.32329123,    5.7392431 ,   10.31732543,\n",
       "           6.6501013 ,    8.61215099,   14.18072712,    9.32067552,\n",
       "           5.35705092,    7.12817353,    5.31337371,    4.72275758,\n",
       "           4.28945018,   12.112038  ,    4.28945018,    4.64698524,\n",
       "           6.27115997,   11.21412438,    9.08019967,    9.24362087,\n",
       "          20.59541532,    5.75359445,    5.9096294 ,    7.770914  ,\n",
       "           6.34956899,    6.48823195,   19.18678323,   11.63975055,\n",
       "           8.75151856,    7.56869478,   13.90761544,   12.13487244,\n",
       "           6.83019329,    8.4529791 ,   10.12508216,   10.12508216,\n",
       "           7.64578801,    9.18859049,   12.85881543,    6.23485032,\n",
       "           9.61975759,    9.81162428,    7.9279893 ,   18.99463731,\n",
       "           9.20379992,   12.72003742,   12.70778671,   23.23538738,\n",
       "          42.47349587,   26.51482247,   26.82722986,   50.82345852,\n",
       "          29.49197867,   59.03548154,  111.92085882,   65.04233565,\n",
       "         130.22234696,  120.20593916,  836.75735328,    5.57468486,\n",
       "           5.90879249,    5.93447145,    5.74293061,    9.20369501,\n",
       "           6.71989324,    8.50789575,    8.73113241,    4.28705278,\n",
       "           1.04355678,    4.20676643,    6.66135345,    4.53960875,\n",
       "           4.25451344,    5.32606113,    9.48387311,    9.79205714,\n",
       "           9.4551409 ,    5.74574986,    5.20952548,    5.20558026,\n",
       "           4.6161054 ,    5.04731399,    4.77467304,    8.17807892,\n",
       "           5.30114371,    5.77300504,    7.92939449,    7.86845331,\n",
       "           4.18691032,    6.01985677,    7.35450703,    8.2323555 ,\n",
       "           5.29289463,   10.30050161,   12.53715648,    6.72440702,\n",
       "          10.87134344,   10.02560715,   10.87134344,   10.87134344,\n",
       "           6.7974679 ,   10.74772798,    6.50517668,    4.80658335,\n",
       "           8.54499853,    7.16648136,   12.95722051,    6.79500925,\n",
       "           2.56847177,    3.96023364,    5.08745476,   34.93854767,\n",
       "           7.86811396,   48.12805914,    7.86937247,    7.3242051 ,\n",
       "           5.21113289,    6.98986104,   18.59521578,    5.47401628,\n",
       "           6.67563448,    5.78525835,    4.86364062,    4.86364062,\n",
       "           9.22672911,    7.81965733,    6.99971388,    6.569763  ,\n",
       "           4.58019386,    7.92298136,   16.21589709,    7.9712655 ,\n",
       "           6.18000119,    8.28926307,    5.65222552,    7.71569441,\n",
       "           6.78006994,    6.80415657,    7.2904301 ,    9.59965952,\n",
       "          12.37228259,    9.56749931,    7.38320346,    6.52407374,\n",
       "           5.46315601,    4.76511502,    4.80917048,    5.50245108,\n",
       "           5.80940689,    5.59169543,    4.63526466,   11.55121266,\n",
       "           8.85899911,    3.74847331,    5.81416587,    6.50075781,\n",
       "           7.51065587,   11.44763548,    9.77962841,    7.00704372,\n",
       "           6.39420867,    6.19999314,    8.48391981,    8.31848127,\n",
       "           7.5126807 ,   20.95025982,   10.41420617,    4.54260503,\n",
       "           4.97842558,    4.6752606 ,    4.54260503,    5.12327929,\n",
       "           6.01152269,    7.75494725,    7.80009056,    5.35760421,\n",
       "           5.35760421,    5.93907407,    7.63730695,    6.34737381,\n",
       "           6.65489574,    6.41865817,    6.53493539,    8.14066969,\n",
       "           8.2660684 ,    9.61465861,    6.31007608,    8.8783464 ,\n",
       "           7.23824714,    7.83091678,    8.04802867,    7.6467572 ,\n",
       "           5.500016  ,    3.59508425,    8.1560215 ,    8.34310403,\n",
       "           5.83152369,  104.56178379,    5.62587484,    5.60559327,\n",
       "           5.83798471,    8.37498014,   28.84561842,   18.62146188,\n",
       "          11.36315642,    8.45616817,    7.55279599,    5.11934403,\n",
       "           7.16184874,    6.07496144,    6.87419272,    8.88388285,\n",
       "          30.65812002,    5.37341668,    5.61370761,    7.65328212,\n",
       "           7.89551136,    6.50648941,    7.07929127,    5.64631194,\n",
       "           5.64631194,    7.26880915,   14.98428699,    8.13654367,\n",
       "           7.08065139,   14.43532718,    6.90182613,    5.77210312,\n",
       "          12.60833388,    4.00810679,    5.64647981,   12.69545545,\n",
       "          12.2246324 ,   11.39236333,    7.16554897,  550.07205718,\n",
       "          11.90963011,    4.75806443,    7.27003453,   11.40455667,\n",
       "         128.51695621,   31.07246855,   64.95561338,    8.4918863 ,\n",
       "          32.67659134,   21.5843221 ,    8.02764862,    4.94451115,\n",
       "          59.02847152,    8.0516034 ,    9.53331348,    6.69695543,\n",
       "           5.84499486,    7.88115458,   11.14351727,    5.70195841,\n",
       "           5.27975329,    6.15934352,    9.93418506,    7.24732467,\n",
       "           7.33018368,    3.27844944,    5.66003672,    6.66401799,\n",
       "           7.53997782,    6.56385999,    6.77594333,    5.74296316,\n",
       "           5.91745649,    9.53137389,    4.91570301,    7.29369841,\n",
       "           6.12679181,    4.82587436,    5.27404227,   12.9532141 ,\n",
       "           5.35597826,   29.29757714,    7.96352983,    7.2643315 ,\n",
       "           7.38314077,    7.96352983,   14.04968558,    6.52963712,\n",
       "           6.14799237,   16.186458  ,    6.48926777,    5.3485544 ,\n",
       "           4.9540813 ,   33.04274947,    8.62186691,   15.6367268 ,\n",
       "           6.62317765,   39.78879397,    4.55190199,    6.61669754,\n",
       "           6.07105424,    6.08655435,    9.25697018,  165.34769232,\n",
       "          24.64951866,   10.49971543,    8.52644453,   33.74411417,\n",
       "          14.92085567,    5.90570074,    7.83183522,    7.97381993,\n",
       "          13.08060658,    7.43183876,    6.53516008,    7.24158774,\n",
       "           7.55754326,   23.45640374,   13.78910617,    5.87024773,\n",
       "           7.4327739 ,   11.21270348,   22.55534939,   10.58015704,\n",
       "           5.27607165,    5.56969863,    5.78446482,    8.4301103 ,\n",
       "          19.90742678,    7.08158206,   10.30731253,    7.17090443,\n",
       "           9.23102358,   10.05453341,    7.23332279,    9.17178087,\n",
       "           8.37966613,   25.78286411,   14.96311296,    8.28779855,\n",
       "           5.83191399]), 0       0.00\n",
       " 1       0.00\n",
       " 2       0.00\n",
       " 3       0.00\n",
       " 4       0.00\n",
       " 5       0.00\n",
       " 6       0.00\n",
       " 7       0.00\n",
       " 8       0.00\n",
       " 9       0.00\n",
       " 10      0.00\n",
       " 11      0.00\n",
       " 12      0.00\n",
       " 13      0.00\n",
       " 14      0.00\n",
       " 15      0.00\n",
       " 16      0.00\n",
       " 17      0.00\n",
       " 18      0.00\n",
       " 19      0.00\n",
       " 20      0.00\n",
       " 21      0.00\n",
       " 22      0.00\n",
       " 23      0.00\n",
       " 24      0.00\n",
       " 25      0.00\n",
       " 26      0.00\n",
       " 27      0.00\n",
       " 28      0.00\n",
       " 29      0.00\n",
       "        ...  \n",
       " 487    16.40\n",
       " 488    46.70\n",
       " 489     0.00\n",
       " 490     0.00\n",
       " 491     0.00\n",
       " 492     0.00\n",
       " 493    43.32\n",
       " 494     8.59\n",
       " 495     0.00\n",
       " 496     2.77\n",
       " 497    14.68\n",
       " 498    40.54\n",
       " 499    10.82\n",
       " 500     0.00\n",
       " 501     0.00\n",
       " 502     0.00\n",
       " 503     1.95\n",
       " 504    49.59\n",
       " 505     5.80\n",
       " 506     0.00\n",
       " 507     0.00\n",
       " 508     0.00\n",
       " 509     2.17\n",
       " 510     0.43\n",
       " 511     0.00\n",
       " 512     6.44\n",
       " 513    54.29\n",
       " 514    11.16\n",
       " 515     0.00\n",
       " 516     0.00\n",
       " Name: area, dtype: float64, [3, 4, 5])"
      ]
     },
     "execution_count": 32,
     "metadata": {},
     "output_type": "execute_result"
    }
   ],
   "source": [
    "result"
   ]
  },
  {
   "cell_type": "markdown",
   "metadata": {},
   "source": [
    "## Pipeline\n",
    "Pipeline of transforms with a final estimator.\n",
    "\n",
    "Sequentially apply a list of transforms and a final estimator. Intermediate steps of the pipeline must be ‘transforms’, that is, they must implement fit and transform methods. The final estimator only needs to implement fit.\n",
    "\n",
    "The purpose of the pipeline is to assemble several steps that can be cross-validated together while setting different parameters. For this, it enables setting parameters of the various steps using their names and the parameter name separated by a ‘__’, as in the example below. A step’s estimator may be replaced entirely by setting the parameter with its name to another estimator, or a transformer removed by setting to None."
   ]
  },
  {
   "cell_type": "code",
   "execution_count": null,
   "metadata": {
    "collapsed": true
   },
   "outputs": [],
   "source": [
    "# 标准化\n",
    "# 特征选择\n",
    "# PCA\n",
    "# Logistic Regression\n",
    "\n",
    "from sklearn.preprocessing import StandardScaler\n",
    "from sklearn.decomposition import PCA\n",
    "from sklearn.feature_selection import SelectKBest\n",
    "from sklearn.linear_model import LogisticRegression\n",
    "\n"
   ]
  },
  {
   "cell_type": "markdown",
   "metadata": {},
   "source": [
    "## How to choose a right estimator\n",
    "[Choosing the right estimator](http://scikit-learn.org/stable/tutorial/machine_learning_map/)\n",
    "![image](http://scikit-learn.org/stable/_static/ml_map.png)"
   ]
  }
 ],
 "metadata": {
  "anaconda-cloud": {},
  "kernelspec": {
   "display_name": "Python [Root]",
   "language": "python",
   "name": "Python [Root]"
  },
  "language_info": {
   "codemirror_mode": {
    "name": "ipython",
    "version": 3
   },
   "file_extension": ".py",
   "mimetype": "text/x-python",
   "name": "python",
   "nbconvert_exporter": "python",
   "pygments_lexer": "ipython3",
   "version": "3.5.2"
  }
 },
 "nbformat": 4,
 "nbformat_minor": 0
}
